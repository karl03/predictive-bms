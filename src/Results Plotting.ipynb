{
 "cells": [
  {
   "cell_type": "code",
   "execution_count": 6,
   "id": "ee38679a",
   "metadata": {},
   "outputs": [],
   "source": [
    "import numpy as np\n",
    "import matplotlib.pyplot as plt"
   ]
  },
  {
   "cell_type": "code",
   "execution_count": 7,
   "id": "e8129b1c",
   "metadata": {},
   "outputs": [
    {
     "name": "stdout",
     "output_type": "stream",
     "text": [
      "[['620' '16.80' '4.20' ... '67.81' '0.40' '']\n",
      " ['687' '16.80' '4.20' ... '100.85' '0.41' '']\n",
      " ['754' '16.80' '4.20' ... '61.20' '0.40' '']\n",
      " ...\n",
      " ['147703' '15.65' '3.92' ... '13243.57' '5.38' '']\n",
      " ['147769' '15.72' '3.93' ... '10217.24' '4.24' '']\n",
      " ['147836' '15.74' '3.94' ... '8849.45' '3.72' '']]\n"
     ]
    }
   ],
   "source": [
    "# Format: Time (ms), bus voltage, cell 1-4 voltage, current (mA), shunt voltage (mV)"
   ]
  },
  {
   "cell_type": "code",
   "execution_count": 53,
   "id": "781148e7",
   "metadata": {},
   "outputs": [],
   "source": [
    "# Generate mocking files:\n",
    "def generate_mock(input_array, line_nums_226, file_name_226, line_nums_3221, file_name_3221, curr_index, min_curr=0):\n",
    "    start_row = 0\n",
    "    if min_curr != 0:\n",
    "        current_curr = 0\n",
    "        while current_curr < min_curr:\n",
    "            start_row += 1\n",
    "            current_curr = float(input_array[start_row][curr_index])\n",
    "            \n",
    "    np.savetxt(file_name_226, input_array[start_row:, line_nums_226], \"%s\", \",\")\n",
    "    np.savetxt(file_name_3221, input_array[start_row:, line_nums_3221], \"%s\", \",\")"
   ]
  },
  {
   "cell_type": "code",
   "execution_count": 54,
   "id": "571f7800",
   "metadata": {},
   "outputs": [],
   "source": [
    "for file_num in range (28, 35):\n",
    "    with open(fr\"..\\data\\raw\\{file_num}.csv\") as F:\n",
    "        lines = [line.strip().split(',') for line in F.readlines()]\n",
    "\n",
    "    results = np.array(lines)\n",
    "    generate_mock(results, [0,1,-2], fr\"..\\data\\mocks\\ina_mock_{file_num}.csv\", [2,3,4,5], fr\"..\\data\\mocks\\ina3221_mock_{file_num}.csv\", 6, 1500)"
   ]
  },
  {
   "cell_type": "code",
   "execution_count": null,
   "id": "d3bc29cf",
   "metadata": {},
   "outputs": [],
   "source": []
  }
 ],
 "metadata": {
  "kernelspec": {
   "display_name": "Python 3 (ipykernel)",
   "language": "python",
   "name": "python3"
  },
  "language_info": {
   "codemirror_mode": {
    "name": "ipython",
    "version": 3
   },
   "file_extension": ".py",
   "mimetype": "text/x-python",
   "name": "python",
   "nbconvert_exporter": "python",
   "pygments_lexer": "ipython3",
   "version": "3.9.7"
  }
 },
 "nbformat": 4,
 "nbformat_minor": 5
}
