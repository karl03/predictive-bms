{
 "cells": [
  {
   "cell_type": "code",
   "execution_count": 26,
   "id": "3b6b6c64",
   "metadata": {},
   "outputs": [],
   "source": [
    "import numpy as np\n",
    "import matplotlib.pyplot as plt\n",
    "\n",
    "with open(r\"C:\\Users\\Karl\\dev\\predictive-bms\\data\\raw\\test-20240123-212326.csv\") as F:\n",
    "    lines = [line.strip().split(',') for line in F.readlines()]\n",
    "\n",
    "results = np.array(lines)"
   ]
  },
  {
   "cell_type": "code",
   "execution_count": 80,
   "id": "197d66c6",
   "metadata": {},
   "outputs": [],
   "source": [
    "def find_plugged_in(array, sub_index, min_voltage):\n",
    "    for index, val in enumerate(array):\n",
    "        if float(val[sub_index]) > min_voltage:\n",
    "            return index\n",
    "\n",
    "def accumulate_time(array, time_index):\n",
    "    time = 0\n",
    "    for index, element in enumerate(array):\n",
    "        time += int(array[index][time_index])\n",
    "        array[index][-1] = time\n",
    "        \n",
    "# plt.plot(results_copy[::10000], results_copy[::10000])\n",
    "\n",
    "# lines.pop(0)\n",
    "# running_time = 0\n",
    "# results = []\n",
    "\n",
    "# for line_index in range(5000, len(lines)):\n",
    "#     if line_index % 50 == 0:\n",
    "#         lines[line_index] = lines[line_index].strip().split(\",\")\n",
    "#         running_time += int(lines[line_index][-2])\n",
    "#         lines[line_index].append(running_time)\n",
    "#         results.append(lines[line_index])\n",
    "\n",
    "# print(lines[0])\n",
    "# plt.plot([x[-1] for x in results], [x[8] for x in results])\n",
    "# plt.plot([x[-1] for x in results], [x[5] for x in results])"
   ]
  },
  {
   "cell_type": "code",
   "execution_count": 85,
   "id": "793449c3",
   "metadata": {},
   "outputs": [
    {
     "name": "stdout",
     "output_type": "stream",
     "text": [
      "['4.20' '4.19' '4.20' '4.22' '16.81' '0.71' '5.51' '0.09' '1.55' '67531'\n",
      " '67531']\n"
     ]
    },
    {
     "data": {
      "text/plain": [
       "[<matplotlib.lines.Line2D at 0x2098b6f8df0>]"
      ]
     },
     "execution_count": 85,
     "metadata": {},
     "output_type": "execute_result"
    },
    {
     "data": {
      "image/png": "[encoded data removed]",
      "text/plain": [
       "<Figure size 432x288 with 1 Axes>"
      ]
     },
     "metadata": {
      "needs_background": "light"
     },
     "output_type": "display_data"
    }
   ],
   "source": [
    "results_copy = results[1::1000]\n",
    "\n",
    "counter = 0\n",
    "\n",
    "readings_start = find_plugged_in(results_copy, 4, 10)\n",
    "results_copy = results_copy[readings_start::]\n",
    "accumulate_time(results_copy, 9)\n",
    "print(results_copy[0])\n",
    "plt.plot(results_copy[::, -1], results_copy[::, 4])"
   ]
  },
  {
   "cell_type": "code",
   "execution_count": null,
   "id": "b6e888cd",
   "metadata": {},
   "outputs": [],
   "source": []
  }
 ],
 "metadata": {
  "kernelspec": {
   "display_name": "Python 3 (ipykernel)",
   "language": "python",
   "name": "python3"
  },
  "language_info": {
   "codemirror_mode": {
    "name": "ipython",
    "version": 3
   },
   "file_extension": ".py",
   "mimetype": "text/x-python",
   "name": "python",
   "nbconvert_exporter": "python",
   "pygments_lexer": "ipython3",
   "version": "3.9.7"
  }
 },
 "nbformat": 4,
 "nbformat_minor": 5
}
